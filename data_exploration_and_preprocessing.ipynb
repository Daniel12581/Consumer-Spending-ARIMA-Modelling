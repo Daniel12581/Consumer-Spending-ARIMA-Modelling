{
 "cells": [
  {
   "cell_type": "code",
   "id": "initial_id",
   "metadata": {
    "collapsed": true,
    "ExecuteTime": {
     "end_time": "2025-07-31T20:37:22.767053Z",
     "start_time": "2025-07-31T20:37:22.763721Z"
    }
   },
   "source": [
    "import pandas as pd\n",
    "import matplotlib.pyplot as plt"
   ],
   "outputs": [],
   "execution_count": 48
  },
  {
   "metadata": {
    "ExecuteTime": {
     "end_time": "2025-07-31T20:37:22.802255Z",
     "start_time": "2025-07-31T20:37:22.791432Z"
    }
   },
   "cell_type": "code",
   "source": "df = pd.read_csv(\"data/merged_data.csv\")",
   "id": "97ea5f113cf1b30c",
   "outputs": [],
   "execution_count": 49
  },
  {
   "metadata": {
    "ExecuteTime": {
     "end_time": "2025-07-31T20:37:22.829372Z",
     "start_time": "2025-07-31T20:37:22.810469Z"
    }
   },
   "cell_type": "code",
   "source": "df.head(20)",
   "id": "a58fc5316b3c97f0",
   "outputs": [
    {
     "data": {
      "text/plain": [
       "    year   population           gdp       co2  solar_generation  \\\n",
       "0   1965  195653775.0  4.156140e+12  3399.547               NaN   \n",
       "1   1966  198265397.0  4.428300e+12  3571.421               NaN   \n",
       "2   1967  200699913.0  4.538980e+12  3705.461               NaN   \n",
       "3   1968  203011021.0  4.754930e+12  3840.919               NaN   \n",
       "4   1969  205300032.0  4.903770e+12  4035.145               NaN   \n",
       "5   1970  207796339.0  4.912640e+12  4339.686               NaN   \n",
       "6   1971  210426424.0  5.065680e+12  4365.465               NaN   \n",
       "7   1972  212842574.0  5.334300e+12  4573.015               NaN   \n",
       "8   1973  215006548.0  5.637200e+12  4785.434               NaN   \n",
       "9   1974  217076474.0  5.621370e+12  4621.419               NaN   \n",
       "10  1975  219129300.0  5.605790e+12  4478.563               NaN   \n",
       "11  1976  221168756.0  5.899590e+12  4748.111               NaN   \n",
       "12  1977  223259417.0  6.166910e+12  4889.953               NaN   \n",
       "13  1978  225396098.0  6.518620e+12  4941.708               NaN   \n",
       "14  1979  227575083.0  6.740170e+12  5008.956               NaN   \n",
       "15  1980  229858654.0  6.743210e+12  4808.877               NaN   \n",
       "16  1981  232201613.0  6.911870e+12  4686.743               NaN   \n",
       "17  1982  234583158.0  6.782210e+12  4447.602               NaN   \n",
       "18  1983  236986362.0  7.066240e+12  4429.711          0.003000   \n",
       "19  1984  239353968.0  7.581110e+12  4662.488          0.005301   \n",
       "\n",
       "    wind_generation  hydro_generation  other_generation  \n",
       "0               NaN         198.97409         13.332232  \n",
       "1               NaN         199.93690         14.062007  \n",
       "2               NaN         227.22081         14.073571  \n",
       "3               NaN         228.15471         15.546045  \n",
       "4               NaN         256.02853         16.227060  \n",
       "5               NaN         253.49237         16.235903  \n",
       "6               NaN         272.25400         16.584414  \n",
       "7               NaN         278.71597         18.672980  \n",
       "8               NaN         278.21270         19.989693  \n",
       "9               NaN         307.28464         20.404264  \n",
       "10              NaN         306.21480         19.754301  \n",
       "11              NaN         289.82245         22.564754  \n",
       "12              NaN         225.85725         23.536121  \n",
       "13              NaN         286.32852         24.678787  \n",
       "14              NaN         285.93533         25.756037  \n",
       "15              NaN         282.00210         26.656116  \n",
       "16              NaN         266.50977         27.377604  \n",
       "17              NaN         315.52930         26.405048  \n",
       "18         0.002695         338.67764         29.804600  \n",
       "19         0.006556         327.58725         35.595325  "
      ],
      "text/html": [
       "<div>\n",
       "<style scoped>\n",
       "    .dataframe tbody tr th:only-of-type {\n",
       "        vertical-align: middle;\n",
       "    }\n",
       "\n",
       "    .dataframe tbody tr th {\n",
       "        vertical-align: top;\n",
       "    }\n",
       "\n",
       "    .dataframe thead th {\n",
       "        text-align: right;\n",
       "    }\n",
       "</style>\n",
       "<table border=\"1\" class=\"dataframe\">\n",
       "  <thead>\n",
       "    <tr style=\"text-align: right;\">\n",
       "      <th></th>\n",
       "      <th>year</th>\n",
       "      <th>population</th>\n",
       "      <th>gdp</th>\n",
       "      <th>co2</th>\n",
       "      <th>solar_generation</th>\n",
       "      <th>wind_generation</th>\n",
       "      <th>hydro_generation</th>\n",
       "      <th>other_generation</th>\n",
       "    </tr>\n",
       "  </thead>\n",
       "  <tbody>\n",
       "    <tr>\n",
       "      <th>0</th>\n",
       "      <td>1965</td>\n",
       "      <td>195653775.0</td>\n",
       "      <td>4.156140e+12</td>\n",
       "      <td>3399.547</td>\n",
       "      <td>NaN</td>\n",
       "      <td>NaN</td>\n",
       "      <td>198.97409</td>\n",
       "      <td>13.332232</td>\n",
       "    </tr>\n",
       "    <tr>\n",
       "      <th>1</th>\n",
       "      <td>1966</td>\n",
       "      <td>198265397.0</td>\n",
       "      <td>4.428300e+12</td>\n",
       "      <td>3571.421</td>\n",
       "      <td>NaN</td>\n",
       "      <td>NaN</td>\n",
       "      <td>199.93690</td>\n",
       "      <td>14.062007</td>\n",
       "    </tr>\n",
       "    <tr>\n",
       "      <th>2</th>\n",
       "      <td>1967</td>\n",
       "      <td>200699913.0</td>\n",
       "      <td>4.538980e+12</td>\n",
       "      <td>3705.461</td>\n",
       "      <td>NaN</td>\n",
       "      <td>NaN</td>\n",
       "      <td>227.22081</td>\n",
       "      <td>14.073571</td>\n",
       "    </tr>\n",
       "    <tr>\n",
       "      <th>3</th>\n",
       "      <td>1968</td>\n",
       "      <td>203011021.0</td>\n",
       "      <td>4.754930e+12</td>\n",
       "      <td>3840.919</td>\n",
       "      <td>NaN</td>\n",
       "      <td>NaN</td>\n",
       "      <td>228.15471</td>\n",
       "      <td>15.546045</td>\n",
       "    </tr>\n",
       "    <tr>\n",
       "      <th>4</th>\n",
       "      <td>1969</td>\n",
       "      <td>205300032.0</td>\n",
       "      <td>4.903770e+12</td>\n",
       "      <td>4035.145</td>\n",
       "      <td>NaN</td>\n",
       "      <td>NaN</td>\n",
       "      <td>256.02853</td>\n",
       "      <td>16.227060</td>\n",
       "    </tr>\n",
       "    <tr>\n",
       "      <th>5</th>\n",
       "      <td>1970</td>\n",
       "      <td>207796339.0</td>\n",
       "      <td>4.912640e+12</td>\n",
       "      <td>4339.686</td>\n",
       "      <td>NaN</td>\n",
       "      <td>NaN</td>\n",
       "      <td>253.49237</td>\n",
       "      <td>16.235903</td>\n",
       "    </tr>\n",
       "    <tr>\n",
       "      <th>6</th>\n",
       "      <td>1971</td>\n",
       "      <td>210426424.0</td>\n",
       "      <td>5.065680e+12</td>\n",
       "      <td>4365.465</td>\n",
       "      <td>NaN</td>\n",
       "      <td>NaN</td>\n",
       "      <td>272.25400</td>\n",
       "      <td>16.584414</td>\n",
       "    </tr>\n",
       "    <tr>\n",
       "      <th>7</th>\n",
       "      <td>1972</td>\n",
       "      <td>212842574.0</td>\n",
       "      <td>5.334300e+12</td>\n",
       "      <td>4573.015</td>\n",
       "      <td>NaN</td>\n",
       "      <td>NaN</td>\n",
       "      <td>278.71597</td>\n",
       "      <td>18.672980</td>\n",
       "    </tr>\n",
       "    <tr>\n",
       "      <th>8</th>\n",
       "      <td>1973</td>\n",
       "      <td>215006548.0</td>\n",
       "      <td>5.637200e+12</td>\n",
       "      <td>4785.434</td>\n",
       "      <td>NaN</td>\n",
       "      <td>NaN</td>\n",
       "      <td>278.21270</td>\n",
       "      <td>19.989693</td>\n",
       "    </tr>\n",
       "    <tr>\n",
       "      <th>9</th>\n",
       "      <td>1974</td>\n",
       "      <td>217076474.0</td>\n",
       "      <td>5.621370e+12</td>\n",
       "      <td>4621.419</td>\n",
       "      <td>NaN</td>\n",
       "      <td>NaN</td>\n",
       "      <td>307.28464</td>\n",
       "      <td>20.404264</td>\n",
       "    </tr>\n",
       "    <tr>\n",
       "      <th>10</th>\n",
       "      <td>1975</td>\n",
       "      <td>219129300.0</td>\n",
       "      <td>5.605790e+12</td>\n",
       "      <td>4478.563</td>\n",
       "      <td>NaN</td>\n",
       "      <td>NaN</td>\n",
       "      <td>306.21480</td>\n",
       "      <td>19.754301</td>\n",
       "    </tr>\n",
       "    <tr>\n",
       "      <th>11</th>\n",
       "      <td>1976</td>\n",
       "      <td>221168756.0</td>\n",
       "      <td>5.899590e+12</td>\n",
       "      <td>4748.111</td>\n",
       "      <td>NaN</td>\n",
       "      <td>NaN</td>\n",
       "      <td>289.82245</td>\n",
       "      <td>22.564754</td>\n",
       "    </tr>\n",
       "    <tr>\n",
       "      <th>12</th>\n",
       "      <td>1977</td>\n",
       "      <td>223259417.0</td>\n",
       "      <td>6.166910e+12</td>\n",
       "      <td>4889.953</td>\n",
       "      <td>NaN</td>\n",
       "      <td>NaN</td>\n",
       "      <td>225.85725</td>\n",
       "      <td>23.536121</td>\n",
       "    </tr>\n",
       "    <tr>\n",
       "      <th>13</th>\n",
       "      <td>1978</td>\n",
       "      <td>225396098.0</td>\n",
       "      <td>6.518620e+12</td>\n",
       "      <td>4941.708</td>\n",
       "      <td>NaN</td>\n",
       "      <td>NaN</td>\n",
       "      <td>286.32852</td>\n",
       "      <td>24.678787</td>\n",
       "    </tr>\n",
       "    <tr>\n",
       "      <th>14</th>\n",
       "      <td>1979</td>\n",
       "      <td>227575083.0</td>\n",
       "      <td>6.740170e+12</td>\n",
       "      <td>5008.956</td>\n",
       "      <td>NaN</td>\n",
       "      <td>NaN</td>\n",
       "      <td>285.93533</td>\n",
       "      <td>25.756037</td>\n",
       "    </tr>\n",
       "    <tr>\n",
       "      <th>15</th>\n",
       "      <td>1980</td>\n",
       "      <td>229858654.0</td>\n",
       "      <td>6.743210e+12</td>\n",
       "      <td>4808.877</td>\n",
       "      <td>NaN</td>\n",
       "      <td>NaN</td>\n",
       "      <td>282.00210</td>\n",
       "      <td>26.656116</td>\n",
       "    </tr>\n",
       "    <tr>\n",
       "      <th>16</th>\n",
       "      <td>1981</td>\n",
       "      <td>232201613.0</td>\n",
       "      <td>6.911870e+12</td>\n",
       "      <td>4686.743</td>\n",
       "      <td>NaN</td>\n",
       "      <td>NaN</td>\n",
       "      <td>266.50977</td>\n",
       "      <td>27.377604</td>\n",
       "    </tr>\n",
       "    <tr>\n",
       "      <th>17</th>\n",
       "      <td>1982</td>\n",
       "      <td>234583158.0</td>\n",
       "      <td>6.782210e+12</td>\n",
       "      <td>4447.602</td>\n",
       "      <td>NaN</td>\n",
       "      <td>NaN</td>\n",
       "      <td>315.52930</td>\n",
       "      <td>26.405048</td>\n",
       "    </tr>\n",
       "    <tr>\n",
       "      <th>18</th>\n",
       "      <td>1983</td>\n",
       "      <td>236986362.0</td>\n",
       "      <td>7.066240e+12</td>\n",
       "      <td>4429.711</td>\n",
       "      <td>0.003000</td>\n",
       "      <td>0.002695</td>\n",
       "      <td>338.67764</td>\n",
       "      <td>29.804600</td>\n",
       "    </tr>\n",
       "    <tr>\n",
       "      <th>19</th>\n",
       "      <td>1984</td>\n",
       "      <td>239353968.0</td>\n",
       "      <td>7.581110e+12</td>\n",
       "      <td>4662.488</td>\n",
       "      <td>0.005301</td>\n",
       "      <td>0.006556</td>\n",
       "      <td>327.58725</td>\n",
       "      <td>35.595325</td>\n",
       "    </tr>\n",
       "  </tbody>\n",
       "</table>\n",
       "</div>"
      ]
     },
     "execution_count": 50,
     "metadata": {},
     "output_type": "execute_result"
    }
   ],
   "execution_count": 50
  },
  {
   "metadata": {
    "ExecuteTime": {
     "end_time": "2025-07-31T20:37:22.863644Z",
     "start_time": "2025-07-31T20:37:22.850537Z"
    }
   },
   "cell_type": "code",
   "source": "df.info()",
   "id": "6a03ba3c24f31dcf",
   "outputs": [
    {
     "name": "stdout",
     "output_type": "stream",
     "text": [
      "<class 'pandas.core.frame.DataFrame'>\n",
      "RangeIndex: 59 entries, 0 to 58\n",
      "Data columns (total 8 columns):\n",
      " #   Column            Non-Null Count  Dtype  \n",
      "---  ------            --------------  -----  \n",
      " 0   year              59 non-null     int64  \n",
      " 1   population        59 non-null     float64\n",
      " 2   gdp               58 non-null     float64\n",
      " 3   co2               59 non-null     float64\n",
      " 4   solar_generation  41 non-null     float64\n",
      " 5   wind_generation   41 non-null     float64\n",
      " 6   hydro_generation  59 non-null     float64\n",
      " 7   other_generation  59 non-null     float64\n",
      "dtypes: float64(7), int64(1)\n",
      "memory usage: 3.8 KB\n"
     ]
    }
   ],
   "execution_count": 51
  },
  {
   "metadata": {},
   "cell_type": "markdown",
   "source": "**Imputing Missing Values**",
   "id": "1740724fa1ec5608"
  },
  {
   "metadata": {},
   "cell_type": "markdown",
   "source": [
    "There are missing values in gdp, solar_generation and wind_generation that we need to account for.\n",
    "We will start with solar_generation and wind_generation by assuming the missing values are placeholders for 0. This makes sense because in 1983 when the data becomes not missing, the values are very small. Moreover, we will combine all four clean energy generation sources into a \"total_generation\" feature, because we do not care about the source of the clean energy generation."
   ],
   "id": "403ce0073d26f70a"
  },
  {
   "metadata": {
    "ExecuteTime": {
     "end_time": "2025-07-31T20:37:22.889786Z",
     "start_time": "2025-07-31T20:37:22.882751Z"
    }
   },
   "cell_type": "code",
   "source": [
    "df[\"solar_generation\"] = df[\"solar_generation\"].fillna(0)\n",
    "df[\"wind_generation\"] = df[\"wind_generation\"].fillna(0)\n",
    "df[\"total_generation\"] = df[\"solar_generation\"] + df[\"wind_generation\"] + df[\"hydro_generation\"] + df[\"other_generation\"]"
   ],
   "id": "62e327849135c0db",
   "outputs": [],
   "execution_count": 52
  },
  {
   "metadata": {
    "ExecuteTime": {
     "end_time": "2025-07-31T20:37:22.913872Z",
     "start_time": "2025-07-31T20:37:22.903410Z"
    }
   },
   "cell_type": "code",
   "source": "df.head()",
   "id": "74bcaa64cfa54451",
   "outputs": [
    {
     "data": {
      "text/plain": [
       "   year   population           gdp       co2  solar_generation  \\\n",
       "0  1965  195653775.0  4.156140e+12  3399.547               0.0   \n",
       "1  1966  198265397.0  4.428300e+12  3571.421               0.0   \n",
       "2  1967  200699913.0  4.538980e+12  3705.461               0.0   \n",
       "3  1968  203011021.0  4.754930e+12  3840.919               0.0   \n",
       "4  1969  205300032.0  4.903770e+12  4035.145               0.0   \n",
       "\n",
       "   wind_generation  hydro_generation  other_generation  total_generation  \n",
       "0              0.0         198.97409         13.332232        212.306322  \n",
       "1              0.0         199.93690         14.062007        213.998907  \n",
       "2              0.0         227.22081         14.073571        241.294381  \n",
       "3              0.0         228.15471         15.546045        243.700755  \n",
       "4              0.0         256.02853         16.227060        272.255590  "
      ],
      "text/html": [
       "<div>\n",
       "<style scoped>\n",
       "    .dataframe tbody tr th:only-of-type {\n",
       "        vertical-align: middle;\n",
       "    }\n",
       "\n",
       "    .dataframe tbody tr th {\n",
       "        vertical-align: top;\n",
       "    }\n",
       "\n",
       "    .dataframe thead th {\n",
       "        text-align: right;\n",
       "    }\n",
       "</style>\n",
       "<table border=\"1\" class=\"dataframe\">\n",
       "  <thead>\n",
       "    <tr style=\"text-align: right;\">\n",
       "      <th></th>\n",
       "      <th>year</th>\n",
       "      <th>population</th>\n",
       "      <th>gdp</th>\n",
       "      <th>co2</th>\n",
       "      <th>solar_generation</th>\n",
       "      <th>wind_generation</th>\n",
       "      <th>hydro_generation</th>\n",
       "      <th>other_generation</th>\n",
       "      <th>total_generation</th>\n",
       "    </tr>\n",
       "  </thead>\n",
       "  <tbody>\n",
       "    <tr>\n",
       "      <th>0</th>\n",
       "      <td>1965</td>\n",
       "      <td>195653775.0</td>\n",
       "      <td>4.156140e+12</td>\n",
       "      <td>3399.547</td>\n",
       "      <td>0.0</td>\n",
       "      <td>0.0</td>\n",
       "      <td>198.97409</td>\n",
       "      <td>13.332232</td>\n",
       "      <td>212.306322</td>\n",
       "    </tr>\n",
       "    <tr>\n",
       "      <th>1</th>\n",
       "      <td>1966</td>\n",
       "      <td>198265397.0</td>\n",
       "      <td>4.428300e+12</td>\n",
       "      <td>3571.421</td>\n",
       "      <td>0.0</td>\n",
       "      <td>0.0</td>\n",
       "      <td>199.93690</td>\n",
       "      <td>14.062007</td>\n",
       "      <td>213.998907</td>\n",
       "    </tr>\n",
       "    <tr>\n",
       "      <th>2</th>\n",
       "      <td>1967</td>\n",
       "      <td>200699913.0</td>\n",
       "      <td>4.538980e+12</td>\n",
       "      <td>3705.461</td>\n",
       "      <td>0.0</td>\n",
       "      <td>0.0</td>\n",
       "      <td>227.22081</td>\n",
       "      <td>14.073571</td>\n",
       "      <td>241.294381</td>\n",
       "    </tr>\n",
       "    <tr>\n",
       "      <th>3</th>\n",
       "      <td>1968</td>\n",
       "      <td>203011021.0</td>\n",
       "      <td>4.754930e+12</td>\n",
       "      <td>3840.919</td>\n",
       "      <td>0.0</td>\n",
       "      <td>0.0</td>\n",
       "      <td>228.15471</td>\n",
       "      <td>15.546045</td>\n",
       "      <td>243.700755</td>\n",
       "    </tr>\n",
       "    <tr>\n",
       "      <th>4</th>\n",
       "      <td>1969</td>\n",
       "      <td>205300032.0</td>\n",
       "      <td>4.903770e+12</td>\n",
       "      <td>4035.145</td>\n",
       "      <td>0.0</td>\n",
       "      <td>0.0</td>\n",
       "      <td>256.02853</td>\n",
       "      <td>16.227060</td>\n",
       "      <td>272.255590</td>\n",
       "    </tr>\n",
       "  </tbody>\n",
       "</table>\n",
       "</div>"
      ]
     },
     "execution_count": 53,
     "metadata": {},
     "output_type": "execute_result"
    }
   ],
   "execution_count": 53
  },
  {
   "metadata": {},
   "cell_type": "markdown",
   "source": "Next, we will fix the missing gdp value.",
   "id": "315fd4a65a1fa7c8"
  },
  {
   "metadata": {
    "ExecuteTime": {
     "end_time": "2025-07-31T20:37:22.940541Z",
     "start_time": "2025-07-31T20:37:22.931971Z"
    }
   },
   "cell_type": "code",
   "source": "df[df[\"gdp\"].isna()]",
   "id": "6811af0f3c6471e5",
   "outputs": [
    {
     "data": {
      "text/plain": [
       "    year   population  gdp       co2  solar_generation  wind_generation  \\\n",
       "58  2023  343477332.0  NaN  4911.391         240.52525         429.5307   \n",
       "\n",
       "    hydro_generation  other_generation  total_generation  \n",
       "58         236.32129           67.2901         973.66734  "
      ],
      "text/html": [
       "<div>\n",
       "<style scoped>\n",
       "    .dataframe tbody tr th:only-of-type {\n",
       "        vertical-align: middle;\n",
       "    }\n",
       "\n",
       "    .dataframe tbody tr th {\n",
       "        vertical-align: top;\n",
       "    }\n",
       "\n",
       "    .dataframe thead th {\n",
       "        text-align: right;\n",
       "    }\n",
       "</style>\n",
       "<table border=\"1\" class=\"dataframe\">\n",
       "  <thead>\n",
       "    <tr style=\"text-align: right;\">\n",
       "      <th></th>\n",
       "      <th>year</th>\n",
       "      <th>population</th>\n",
       "      <th>gdp</th>\n",
       "      <th>co2</th>\n",
       "      <th>solar_generation</th>\n",
       "      <th>wind_generation</th>\n",
       "      <th>hydro_generation</th>\n",
       "      <th>other_generation</th>\n",
       "      <th>total_generation</th>\n",
       "    </tr>\n",
       "  </thead>\n",
       "  <tbody>\n",
       "    <tr>\n",
       "      <th>58</th>\n",
       "      <td>2023</td>\n",
       "      <td>343477332.0</td>\n",
       "      <td>NaN</td>\n",
       "      <td>4911.391</td>\n",
       "      <td>240.52525</td>\n",
       "      <td>429.5307</td>\n",
       "      <td>236.32129</td>\n",
       "      <td>67.2901</td>\n",
       "      <td>973.66734</td>\n",
       "    </tr>\n",
       "  </tbody>\n",
       "</table>\n",
       "</div>"
      ]
     },
     "execution_count": 54,
     "metadata": {},
     "output_type": "execute_result"
    }
   ],
   "execution_count": 54
  },
  {
   "metadata": {},
   "cell_type": "markdown",
   "source": "Since the latest value for gdp is missing only, we can assume it is missing because the dataset did not collect the data yet. We will impute it by linear extrapolation, since the increase in gdp between 2021 and 2022 should be pretty similar to the increase in gdp between 2022 and 2023.",
   "id": "b16e8da26aa602a6"
  },
  {
   "metadata": {
    "ExecuteTime": {
     "end_time": "2025-07-31T20:37:22.969142Z",
     "start_time": "2025-07-31T20:37:22.964618Z"
    }
   },
   "cell_type": "code",
   "source": [
    "gdp_2021 = df.loc[56, \"gdp\"]\n",
    "gdp_2022 = df.loc[57, \"gdp\"]\n",
    "\n",
    "print(f\"gdp 2021: {gdp_2021} \\ngdp 2022: {gdp_2022}\")"
   ],
   "id": "64b1c90ab4c0996e",
   "outputs": [
    {
     "name": "stdout",
     "output_type": "stream",
     "text": [
      "gdp 2021: 19099400000000.0 \n",
      "gdp 2022: 19493200000000.0\n"
     ]
    }
   ],
   "execution_count": 55
  },
  {
   "metadata": {
    "ExecuteTime": {
     "end_time": "2025-07-31T20:37:23.000028Z",
     "start_time": "2025-07-31T20:37:22.992994Z"
    }
   },
   "cell_type": "code",
   "source": [
    "extrapolated_gdp_2023 = (gdp_2022 - gdp_2021) + gdp_2022\n",
    "df.loc[58, \"gdp\"] = extrapolated_gdp_2023\n",
    "print(f\"gdp 2023: {df.loc[58, 'gdp']}\")"
   ],
   "id": "56a9e5c362002325",
   "outputs": [
    {
     "name": "stdout",
     "output_type": "stream",
     "text": [
      "gdp 2023: 19887000000000.0\n"
     ]
    }
   ],
   "execution_count": 56
  },
  {
   "metadata": {},
   "cell_type": "markdown",
   "source": "**Checking For Outliers**",
   "id": "10bb11fc7e529b96"
  },
  {
   "metadata": {
    "ExecuteTime": {
     "end_time": "2025-07-31T20:51:30.271527Z",
     "start_time": "2025-07-31T20:51:30.010626Z"
    }
   },
   "cell_type": "code",
   "source": [
    "fig, axes = plt.subplots(2, 2)\n",
    "axes[0, 0].boxplot(df[\"gdp\"])\n",
    "axes[0, 0].set_title(\"gdp\")\n",
    "axes[0, 1].boxplot(df[\"population\"])\n",
    "axes[0, 1].set_title(\"population\")\n",
    "axes[1, 0].boxplot(df[\"total_generation\"])\n",
    "axes[1, 0].set_title(\"total_generation\")\n",
    "axes[1, 1].boxplot(df[\"co2\"])\n",
    "axes[1, 1].set_title(\"co2\")\n"
   ],
   "id": "682a7484af4a0ba6",
   "outputs": [
    {
     "data": {
      "text/plain": [
       "Text(0.5, 1.0, 'co2')"
      ]
     },
     "execution_count": 67,
     "metadata": {},
     "output_type": "execute_result"
    },
    {
     "data": {
      "text/plain": [
       "<Figure size 640x480 with 4 Axes>"
      ],
      "image/png": "[encoded data removed]"
     },
     "metadata": {},
     "output_type": "display_data"
    }
   ],
   "execution_count": 67
  },
  {
   "metadata": {},
   "cell_type": "markdown",
   "source": "There are outliers in total_generation. We will handle it using IQR method",
   "id": "a684ea598b443d72"
  },
  {
   "metadata": {
    "ExecuteTime": {
     "end_time": "2025-07-31T20:57:44.121771Z",
     "start_time": "2025-07-31T20:57:44.113071Z"
    }
   },
   "cell_type": "code",
   "source": [
    "Q1 = df[\"total_generation\"].quantile(0.25)\n",
    "Q3 = df[\"total_generation\"].quantile(0.75)\n",
    "IQR = Q3 - Q1\n",
    "\n",
    "print(f\"num of outliers: {len(df[df['total_generation'] > Q3])}\")"
   ],
   "id": "621071f36698a677",
   "outputs": [
    {
     "name": "stdout",
     "output_type": "stream",
     "text": [
      "num of outliers: 15\n"
     ]
    }
   ],
   "execution_count": 74
  },
  {
   "metadata": {
    "ExecuteTime": {
     "end_time": "2025-07-31T20:57:42.871989Z",
     "start_time": "2025-07-31T20:57:42.864028Z"
    }
   },
   "cell_type": "code",
   "source": "df[\"total_generation\"] = df[\"total_generation\"].clip(Q1, Q3)",
   "id": "616cb2c5032caa1a",
   "outputs": [],
   "execution_count": 73
  },
  {
   "metadata": {},
   "cell_type": "markdown",
   "source": "Double checking that there are no outliers now",
   "id": "18b4ca55782c1b89"
  },
  {
   "metadata": {
    "ExecuteTime": {
     "end_time": "2025-07-31T20:58:18.061379Z",
     "start_time": "2025-07-31T20:58:17.775344Z"
    }
   },
   "cell_type": "code",
   "source": [
    "fig, axes = plt.subplots(2, 2)\n",
    "axes[0, 0].boxplot(df[\"gdp\"])\n",
    "axes[0, 0].set_title(\"gdp\")\n",
    "axes[0, 1].boxplot(df[\"population\"])\n",
    "axes[0, 1].set_title(\"population\")\n",
    "axes[1, 0].boxplot(df[\"total_generation\"])\n",
    "axes[1, 0].set_title(\"total_generation\")\n",
    "axes[1, 1].boxplot(df[\"co2\"])\n",
    "axes[1, 1].set_title(\"co2\")\n"
   ],
   "id": "389c627954b0b387",
   "outputs": [
    {
     "data": {
      "text/plain": [
       "Text(0.5, 1.0, 'co2')"
      ]
     },
     "execution_count": 76,
     "metadata": {},
     "output_type": "execute_result"
    },
    {
     "data": {
      "text/plain": [
       "<Figure size 640x480 with 4 Axes>"
      ],
      "image/png": "[encoded data removed]"
     },
     "metadata": {},
     "output_type": "display_data"
    }
   ],
   "execution_count": 76
  },
  {
   "metadata": {},
   "cell_type": "markdown",
   "source": "**Exporting the cleaned data with only the required features**",
   "id": "e04d19a59243f789"
  },
  {
   "metadata": {
    "ExecuteTime": {
     "end_time": "2025-07-31T21:01:01.538900Z",
     "start_time": "2025-07-31T21:01:01.533370Z"
    }
   },
   "cell_type": "code",
   "source": "df_cleaned = df[[\"gdp\", \"population\", \"total_generation\", \"co2\"]]",
   "id": "adfce035d0cc2b8c",
   "outputs": [],
   "execution_count": 78
  },
  {
   "metadata": {
    "ExecuteTime": {
     "end_time": "2025-07-31T21:01:02.380834Z",
     "start_time": "2025-07-31T21:01:02.360135Z"
    }
   },
   "cell_type": "code",
   "source": "df_cleaned.to_csv(\"data/cleaned_data.csv\", index = False)",
   "id": "e10ff572d5934197",
   "outputs": [],
   "execution_count": 79
  }
 ],
 "metadata": {
  "kernelspec": {
   "display_name": "Python 3",
   "language": "python",
   "name": "python3"
  },
  "language_info": {
   "codemirror_mode": {
    "name": "ipython",
    "version": 2
   },
   "file_extension": ".py",
   "mimetype": "text/x-python",
   "name": "python",
   "nbconvert_exporter": "python",
   "pygments_lexer": "ipython2",
   "version": "2.7.6"
  }
 },
 "nbformat": 4,
 "nbformat_minor": 5
}
