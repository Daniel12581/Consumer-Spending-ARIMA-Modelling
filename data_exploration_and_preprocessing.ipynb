{
 "cells": [
  {
   "cell_type": "code",
   "id": "initial_id",
   "metadata": {
    "collapsed": true,
    "ExecuteTime": {
     "end_time": "2025-07-31T21:46:32.539043Z",
     "start_time": "2025-07-31T21:46:32.533536Z"
    }
   },
   "source": [
    "import pandas as pd\n",
    "import matplotlib.pyplot as plt"
   ],
   "outputs": [],
   "execution_count": 116
  },
  {
   "metadata": {
    "ExecuteTime": {
     "end_time": "2025-07-31T21:47:56.129357Z",
     "start_time": "2025-07-31T21:47:56.121768Z"
    }
   },
   "cell_type": "code",
   "source": "df = pd.read_csv(\"data/merged_data.csv\" )",
   "id": "97ea5f113cf1b30c",
   "outputs": [],
   "execution_count": 133
  },
  {
   "metadata": {},
   "cell_type": "markdown",
   "source": "**80-20 Train-Test Split**",
   "id": "11f6747bbe8db2db"
  },
  {
   "metadata": {
    "ExecuteTime": {
     "end_time": "2025-07-31T21:46:32.656419Z",
     "start_time": "2025-07-31T21:46:32.650276Z"
    }
   },
   "cell_type": "code",
   "source": "df.shape[0]",
   "id": "76154a06484f7501",
   "outputs": [
    {
     "data": {
      "text/plain": [
       "59"
      ]
     },
     "execution_count": 119,
     "metadata": {},
     "output_type": "execute_result"
    }
   ],
   "execution_count": 119
  },
  {
   "metadata": {
    "ExecuteTime": {
     "end_time": "2025-07-31T21:46:32.681524Z",
     "start_time": "2025-07-31T21:46:32.678192Z"
    }
   },
   "cell_type": "code",
   "source": [
    "train = df.iloc[:round(df.shape[0] * 0.8), :].copy()\n",
    "test = df.iloc[round(df.shape[0] * 0.8):, ].copy()"
   ],
   "id": "f364c5c410066237",
   "outputs": [],
   "execution_count": 120
  },
  {
   "metadata": {
    "ExecuteTime": {
     "end_time": "2025-07-31T21:46:32.708130Z",
     "start_time": "2025-07-31T21:46:32.699789Z"
    }
   },
   "cell_type": "code",
   "source": "train.info()",
   "id": "6a03ba3c24f31dcf",
   "outputs": [
    {
     "name": "stdout",
     "output_type": "stream",
     "text": [
      "<class 'pandas.core.frame.DataFrame'>\n",
      "RangeIndex: 47 entries, 0 to 46\n",
      "Data columns (total 8 columns):\n",
      " #   Column            Non-Null Count  Dtype  \n",
      "---  ------            --------------  -----  \n",
      " 0   year              47 non-null     int64  \n",
      " 1   population        47 non-null     float64\n",
      " 2   gdp               47 non-null     float64\n",
      " 3   co2               47 non-null     float64\n",
      " 4   solar_generation  29 non-null     float64\n",
      " 5   wind_generation   29 non-null     float64\n",
      " 6   hydro_generation  47 non-null     float64\n",
      " 7   other_generation  47 non-null     float64\n",
      "dtypes: float64(7), int64(1)\n",
      "memory usage: 3.1 KB\n"
     ]
    }
   ],
   "execution_count": 121
  },
  {
   "metadata": {},
   "cell_type": "markdown",
   "source": "**Imputing Missing Values**",
   "id": "1740724fa1ec5608"
  },
  {
   "metadata": {},
   "cell_type": "markdown",
   "source": [
    "There are missing values in solar_generation and wind_generation that we need to account for.\n",
    "We will impute them by assuming the missing values are placeholders for 0. This makes sense because in 1983 when the data becomes not missing, the values are very small. Moreover, we will combine all four clean energy generation sources into a \"total_generation\" feature, because we do not care about the source of the clean energy generation."
   ],
   "id": "403ce0073d26f70a"
  },
  {
   "metadata": {
    "ExecuteTime": {
     "end_time": "2025-07-31T21:46:32.732885Z",
     "start_time": "2025-07-31T21:46:32.726367Z"
    }
   },
   "cell_type": "code",
   "source": [
    "train[\"solar_generation\"] = train[\"solar_generation\"].fillna(0)\n",
    "train[\"wind_generation\"] = train[\"wind_generation\"].fillna(0)\n",
    "train[\"total_generation\"] = train[\"solar_generation\"] + train[\"wind_generation\"] + train[\"hydro_generation\"] + train[\"other_generation\"]"
   ],
   "id": "62e327849135c0db",
   "outputs": [],
   "execution_count": 122
  },
  {
   "metadata": {},
   "cell_type": "code",
   "source": "train.head()",
   "id": "74bcaa64cfa54451",
   "outputs": [
    {
     "data": {
      "text/plain": [
       "   year   population           gdp       co2  solar_generation  \\\n",
       "0  1965  195653775.0  4.156140e+12  3399.547               0.0   \n",
       "1  1966  198265397.0  4.428300e+12  3571.421               0.0   \n",
       "2  1967  200699913.0  4.538980e+12  3705.461               0.0   \n",
       "3  1968  203011021.0  4.754930e+12  3840.919               0.0   \n",
       "4  1969  205300032.0  4.903770e+12  4035.145               0.0   \n",
       "\n",
       "   wind_generation  hydro_generation  other_generation  total_generation  \n",
       "0              0.0         198.97409         13.332232        212.306322  \n",
       "1              0.0         199.93690         14.062007        213.998907  \n",
       "2              0.0         227.22081         14.073571        241.294381  \n",
       "3              0.0         228.15471         15.546045        243.700755  \n",
       "4              0.0         256.02853         16.227060        272.255590  "
      ],
      "text/html": [
       "<div>\n",
       "<style scoped>\n",
       "    .dataframe tbody tr th:only-of-type {\n",
       "        vertical-align: middle;\n",
       "    }\n",
       "\n",
       "    .dataframe tbody tr th {\n",
       "        vertical-align: top;\n",
       "    }\n",
       "\n",
       "    .dataframe thead th {\n",
       "        text-align: right;\n",
       "    }\n",
       "</style>\n",
       "<table border=\"1\" class=\"dataframe\">\n",
       "  <thead>\n",
       "    <tr style=\"text-align: right;\">\n",
       "      <th></th>\n",
       "      <th>year</th>\n",
       "      <th>population</th>\n",
       "      <th>gdp</th>\n",
       "      <th>co2</th>\n",
       "      <th>solar_generation</th>\n",
       "      <th>wind_generation</th>\n",
       "      <th>hydro_generation</th>\n",
       "      <th>other_generation</th>\n",
       "      <th>total_generation</th>\n",
       "    </tr>\n",
       "  </thead>\n",
       "  <tbody>\n",
       "    <tr>\n",
       "      <th>0</th>\n",
       "      <td>1965</td>\n",
       "      <td>195653775.0</td>\n",
       "      <td>4.156140e+12</td>\n",
       "      <td>3399.547</td>\n",
       "      <td>0.0</td>\n",
       "      <td>0.0</td>\n",
       "      <td>198.97409</td>\n",
       "      <td>13.332232</td>\n",
       "      <td>212.306322</td>\n",
       "    </tr>\n",
       "    <tr>\n",
       "      <th>1</th>\n",
       "      <td>1966</td>\n",
       "      <td>198265397.0</td>\n",
       "      <td>4.428300e+12</td>\n",
       "      <td>3571.421</td>\n",
       "      <td>0.0</td>\n",
       "      <td>0.0</td>\n",
       "      <td>199.93690</td>\n",
       "      <td>14.062007</td>\n",
       "      <td>213.998907</td>\n",
       "    </tr>\n",
       "    <tr>\n",
       "      <th>2</th>\n",
       "      <td>1967</td>\n",
       "      <td>200699913.0</td>\n",
       "      <td>4.538980e+12</td>\n",
       "      <td>3705.461</td>\n",
       "      <td>0.0</td>\n",
       "      <td>0.0</td>\n",
       "      <td>227.22081</td>\n",
       "      <td>14.073571</td>\n",
       "      <td>241.294381</td>\n",
       "    </tr>\n",
       "    <tr>\n",
       "      <th>3</th>\n",
       "      <td>1968</td>\n",
       "      <td>203011021.0</td>\n",
       "      <td>4.754930e+12</td>\n",
       "      <td>3840.919</td>\n",
       "      <td>0.0</td>\n",
       "      <td>0.0</td>\n",
       "      <td>228.15471</td>\n",
       "      <td>15.546045</td>\n",
       "      <td>243.700755</td>\n",
       "    </tr>\n",
       "    <tr>\n",
       "      <th>4</th>\n",
       "      <td>1969</td>\n",
       "      <td>205300032.0</td>\n",
       "      <td>4.903770e+12</td>\n",
       "      <td>4035.145</td>\n",
       "      <td>0.0</td>\n",
       "      <td>0.0</td>\n",
       "      <td>256.02853</td>\n",
       "      <td>16.227060</td>\n",
       "      <td>272.255590</td>\n",
       "    </tr>\n",
       "  </tbody>\n",
       "</table>\n",
       "</div>"
      ]
     },
     "execution_count": 123,
     "metadata": {},
     "output_type": "execute_result"
    }
   ],
   "execution_count": 123
  },
  {
   "metadata": {},
   "cell_type": "markdown",
   "source": "Since the latest value for gdp is missing only, we can assume it is missing because the dataset did not collect the data yet. We will impute it by linear extrapolation, since the increase in gdp between 2021 and 2022 should be pretty similar to the increase in gdp between 2022 and 2023.",
   "id": "b16e8da26aa602a6"
  },
  {
   "metadata": {},
   "cell_type": "markdown",
   "source": "**Checking For Outliers**",
   "id": "10bb11fc7e529b96"
  },
  {
   "metadata": {
    "ExecuteTime": {
     "end_time": "2025-07-31T21:46:33.046702Z",
     "start_time": "2025-07-31T21:46:32.815329Z"
    }
   },
   "cell_type": "code",
   "source": [
    "fig, axes = plt.subplots(2, 2)\n",
    "axes[0, 0].boxplot(train[\"gdp\"])\n",
    "axes[0, 0].set_title(\"gdp\")\n",
    "axes[0, 1].boxplot(train[\"population\"])\n",
    "axes[0, 1].set_title(\"population\")\n",
    "axes[1, 0].boxplot(train[\"total_generation\"])\n",
    "axes[1, 0].set_title(\"total_generation\")\n",
    "axes[1, 1].boxplot(train[\"co2\"])\n",
    "axes[1, 1].set_title(\"co2\")\n"
   ],
   "id": "682a7484af4a0ba6",
   "outputs": [
    {
     "data": {
      "text/plain": [
       "Text(0.5, 1.0, 'co2')"
      ]
     },
     "execution_count": 124,
     "metadata": {},
     "output_type": "execute_result"
    },
    {
     "data": {
      "text/plain": [
       "<Figure size 640x480 with 4 Axes>"
      ],
      "image/png": "[encoded data removed]"
     },
     "metadata": {},
     "output_type": "display_data"
    }
   ],
   "execution_count": 124
  },
  {
   "metadata": {},
   "cell_type": "markdown",
   "source": "There are outliers in total_generation. We will handle it using IQR method",
   "id": "a684ea598b443d72"
  },
  {
   "metadata": {
    "ExecuteTime": {
     "end_time": "2025-07-31T21:46:33.057921Z",
     "start_time": "2025-07-31T21:46:33.051710Z"
    }
   },
   "cell_type": "code",
   "source": [
    "Q1 = train[\"total_generation\"].quantile(0.25)\n",
    "Q3 = train[\"total_generation\"].quantile(0.75)\n",
    "IQR = Q3 - Q1\n",
    "train[\"total_generation\"] = train[\"total_generation\"].clip(Q1, Q3)"
   ],
   "id": "621071f36698a677",
   "outputs": [],
   "execution_count": 125
  },
  {
   "metadata": {},
   "cell_type": "markdown",
   "source": "Double checking that there are no outliers now",
   "id": "18b4ca55782c1b89"
  },
  {
   "metadata": {
    "ExecuteTime": {
     "end_time": "2025-07-31T21:46:33.272700Z",
     "start_time": "2025-07-31T21:46:33.072605Z"
    }
   },
   "cell_type": "code",
   "source": [
    "fig, axes = plt.subplots(2, 2)\n",
    "axes[0, 0].boxplot(train[\"gdp\"])\n",
    "axes[0, 0].set_title(\"gdp\")\n",
    "axes[0, 1].boxplot(train[\"population\"])\n",
    "axes[0, 1].set_title(\"population\")\n",
    "axes[1, 0].boxplot(train[\"total_generation\"])\n",
    "axes[1, 0].set_title(\"total_generation\")\n",
    "axes[1, 1].boxplot(train[\"co2\"])\n",
    "axes[1, 1].set_title(\"co2\")\n"
   ],
   "id": "389c627954b0b387",
   "outputs": [
    {
     "data": {
      "text/plain": [
       "Text(0.5, 1.0, 'co2')"
      ]
     },
     "execution_count": 126,
     "metadata": {},
     "output_type": "execute_result"
    },
    {
     "data": {
      "text/plain": [
       "<Figure size 640x480 with 4 Axes>"
      ],
      "image/png": "[encoded data removed]"
     },
     "metadata": {},
     "output_type": "display_data"
    }
   ],
   "execution_count": 126
  },
  {
   "metadata": {},
   "cell_type": "markdown",
   "source": "**Applying the same preprocessing steps onto the test set**",
   "id": "849a610235d3a091"
  },
  {
   "metadata": {
    "ExecuteTime": {
     "end_time": "2025-07-31T21:46:33.299926Z",
     "start_time": "2025-07-31T21:46:33.292633Z"
    }
   },
   "cell_type": "code",
   "source": [
    "test[\"solar_generation\"] = test[\"solar_generation\"].fillna(0)\n",
    "test[\"wind_generation\"] = test[\"wind_generation\"].fillna(0)\n",
    "test[\"total_generation\"] = test[\"solar_generation\"] + test[\"wind_generation\"] + test[\"hydro_generation\"] + test[\"other_generation\"]\n",
    "\n",
    "Q1 = test[\"total_generation\"].quantile(0.25)\n",
    "Q3 = test[\"total_generation\"].quantile(0.75)\n",
    "IQR = Q3 - Q1\n",
    "test[\"total_generation\"] = test[\"total_generation\"].clip(Q1, Q3)"
   ],
   "id": "86e9c722a5fca606",
   "outputs": [],
   "execution_count": 127
  },
  {
   "metadata": {
    "ExecuteTime": {
     "end_time": "2025-07-31T21:46:33.318746Z",
     "start_time": "2025-07-31T21:46:33.312878Z"
    }
   },
   "cell_type": "code",
   "source": "test.info()",
   "id": "255bb1e8a4068aa",
   "outputs": [
    {
     "name": "stdout",
     "output_type": "stream",
     "text": [
      "<class 'pandas.core.frame.DataFrame'>\n",
      "RangeIndex: 12 entries, 47 to 58\n",
      "Data columns (total 9 columns):\n",
      " #   Column            Non-Null Count  Dtype  \n",
      "---  ------            --------------  -----  \n",
      " 0   year              12 non-null     int64  \n",
      " 1   population        12 non-null     float64\n",
      " 2   gdp               11 non-null     float64\n",
      " 3   co2               12 non-null     float64\n",
      " 4   solar_generation  12 non-null     float64\n",
      " 5   wind_generation   12 non-null     float64\n",
      " 6   hydro_generation  12 non-null     float64\n",
      " 7   other_generation  12 non-null     float64\n",
      " 8   total_generation  12 non-null     float64\n",
      "dtypes: float64(8), int64(1)\n",
      "memory usage: 996.0 bytes\n"
     ]
    }
   ],
   "execution_count": 128
  },
  {
   "metadata": {},
   "cell_type": "markdown",
   "source": "However, gdp is still missing value for an observation",
   "id": "4f3bc8182ecd3230"
  },
  {
   "metadata": {
    "ExecuteTime": {
     "end_time": "2025-07-31T21:46:33.355521Z",
     "start_time": "2025-07-31T21:46:33.345553Z"
    }
   },
   "cell_type": "code",
   "source": "test[test[\"gdp\"].isna()]",
   "id": "315912707342ea91",
   "outputs": [
    {
     "data": {
      "text/plain": [
       "    year   population  gdp       co2  solar_generation  wind_generation  \\\n",
       "58  2023  343477332.0  NaN  4911.391         240.52525         429.5307   \n",
       "\n",
       "    hydro_generation  other_generation  total_generation  \n",
       "58         236.32129           67.2901        840.613915  "
      ],
      "text/html": [
       "<div>\n",
       "<style scoped>\n",
       "    .dataframe tbody tr th:only-of-type {\n",
       "        vertical-align: middle;\n",
       "    }\n",
       "\n",
       "    .dataframe tbody tr th {\n",
       "        vertical-align: top;\n",
       "    }\n",
       "\n",
       "    .dataframe thead th {\n",
       "        text-align: right;\n",
       "    }\n",
       "</style>\n",
       "<table border=\"1\" class=\"dataframe\">\n",
       "  <thead>\n",
       "    <tr style=\"text-align: right;\">\n",
       "      <th></th>\n",
       "      <th>year</th>\n",
       "      <th>population</th>\n",
       "      <th>gdp</th>\n",
       "      <th>co2</th>\n",
       "      <th>solar_generation</th>\n",
       "      <th>wind_generation</th>\n",
       "      <th>hydro_generation</th>\n",
       "      <th>other_generation</th>\n",
       "      <th>total_generation</th>\n",
       "    </tr>\n",
       "  </thead>\n",
       "  <tbody>\n",
       "    <tr>\n",
       "      <th>58</th>\n",
       "      <td>2023</td>\n",
       "      <td>343477332.0</td>\n",
       "      <td>NaN</td>\n",
       "      <td>4911.391</td>\n",
       "      <td>240.52525</td>\n",
       "      <td>429.5307</td>\n",
       "      <td>236.32129</td>\n",
       "      <td>67.2901</td>\n",
       "      <td>840.613915</td>\n",
       "    </tr>\n",
       "  </tbody>\n",
       "</table>\n",
       "</div>"
      ]
     },
     "execution_count": 129,
     "metadata": {},
     "output_type": "execute_result"
    }
   ],
   "execution_count": 129
  },
  {
   "metadata": {},
   "cell_type": "markdown",
   "source": "Because this is the test set, we will remove this observation instead of imputating the value",
   "id": "9eaecaafa36e8fa3"
  },
  {
   "metadata": {
    "ExecuteTime": {
     "end_time": "2025-07-31T21:46:33.443741Z",
     "start_time": "2025-07-31T21:46:33.369376Z"
    }
   },
   "cell_type": "code",
   "source": "test = test[test[\"gdp\"].notna()]",
   "id": "6d26d2c184589dc5",
   "outputs": [],
   "execution_count": 130
  },
  {
   "metadata": {},
   "cell_type": "markdown",
   "source": "**Exporting the cleaned data with only the required features**",
   "id": "e04d19a59243f789"
  },
  {
   "metadata": {
    "ExecuteTime": {
     "end_time": "2025-07-31T21:46:33.454853Z",
     "start_time": "2025-07-31T21:46:33.447758Z"
    }
   },
   "cell_type": "code",
   "source": [
    "train_cleaned = train[[\"gdp\", \"population\", \"total_generation\", \"co2\"]]\n",
    "test_cleaned = test[[\"gdp\", \"population\", \"total_generation\", \"co2\"]]"
   ],
   "id": "adfce035d0cc2b8c",
   "outputs": [],
   "execution_count": 131
  },
  {
   "metadata": {
    "ExecuteTime": {
     "end_time": "2025-07-31T21:46:33.474708Z",
     "start_time": "2025-07-31T21:46:33.464612Z"
    }
   },
   "cell_type": "code",
   "source": [
    "train_cleaned.to_csv(\"data/cleaned_train.csv\", index = False)\n",
    "test_cleaned.to_csv(\"data/cleaned_test.csv\", index = False)"
   ],
   "id": "e10ff572d5934197",
   "outputs": [],
   "execution_count": 132
  }
 ],
 "metadata": {
  "kernelspec": {
   "display_name": "Python 3",
   "language": "python",
   "name": "python3"
  },
  "language_info": {
   "codemirror_mode": {
    "name": "ipython",
    "version": 2
   },
   "file_extension": ".py",
   "mimetype": "text/x-python",
   "name": "python",
   "nbconvert_exporter": "python",
   "pygments_lexer": "ipython2",
   "version": "2.7.6"
  }
 },
 "nbformat": 4,
 "nbformat_minor": 5
}
